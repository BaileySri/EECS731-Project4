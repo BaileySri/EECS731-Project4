{
 "cells": [
  {
   "cell_type": "markdown",
   "metadata": {},
   "source": [
    "# Naive Linear Regression of Score with no opponents\n",
    "---\n",
    "Creating a regression from a teams score through each game without consideration for who their opponent is would create a sort of blind score projection. There is a heavy feeling of uselessness here as considering NFL is a game with 2 teams, where the number of points scored is directly related to your opponents ability to defend, that this might be a less than useful regression. Ideally thhough this model would at least provide some support to the idea that the predicted score is also reliant on the opposing team."
   ]
  },
  {
   "cell_type": "code",
   "execution_count": null,
   "metadata": {},
   "outputs": [],
   "source": [
    "import pandas as pd #DataFrames"
   ]
  },
  {
   "cell_type": "code",
   "execution_count": 2,
   "metadata": {},
   "outputs": [],
   "source": [
    "df = pd.read_csv('../data/external/nfl_games.csv')\n",
    "df.head()"
   ]
  },
  {
   "cell_type": "code",
   "execution_count": 3,
   "metadata": {},
   "outputs": [
    {
     "name": "stdout",
     "output_type": "stream",
     "text": [
      "<class 'pandas.core.frame.DataFrame'>\n",
      "RangeIndex: 16274 entries, 0 to 16273\n",
      "Data columns (total 12 columns):\n",
      " #   Column     Non-Null Count  Dtype         \n",
      "---  ------     --------------  -----         \n",
      " 0   date       16274 non-null  datetime64[ns]\n",
      " 1   season     16274 non-null  int64         \n",
      " 2   neutral    16274 non-null  int64         \n",
      " 3   playoff    16274 non-null  int64         \n",
      " 4   team1      16274 non-null  object        \n",
      " 5   team2      16274 non-null  object        \n",
      " 6   elo1       16274 non-null  float64       \n",
      " 7   elo2       16274 non-null  float64       \n",
      " 8   elo_prob1  16274 non-null  float64       \n",
      " 9   score1     16274 non-null  int64         \n",
      " 10  score2     16274 non-null  int64         \n",
      " 11  result1    16274 non-null  float64       \n",
      "dtypes: datetime64[ns](1), float64(4), int64(5), object(2)\n",
      "memory usage: 1.5+ MB\n"
     ]
    }
   ],
   "source": [
    "df['date'] =  pd.to_datetime(df['date'])\n",
    "df.info()"
   ]
  },
  {
   "cell_type": "markdown",
   "metadata": {},
   "source": [
    "We are going to want to convert the datetime format to a usable numeric for linear regression. To do this we can use the datetime library"
   ]
  },
  {
   "cell_type": "code",
   "execution_count": 4,
   "metadata": {},
   "outputs": [
    {
     "data": {
      "text/html": [
       "<div>\n",
       "<style scoped>\n",
       "    .dataframe tbody tr th:only-of-type {\n",
       "        vertical-align: middle;\n",
       "    }\n",
       "\n",
       "    .dataframe tbody tr th {\n",
       "        vertical-align: top;\n",
       "    }\n",
       "\n",
       "    .dataframe thead th {\n",
       "        text-align: right;\n",
       "    }\n",
       "</style>\n",
       "<table border=\"1\" class=\"dataframe\">\n",
       "  <thead>\n",
       "    <tr style=\"text-align: right;\">\n",
       "      <th></th>\n",
       "      <th>date</th>\n",
       "      <th>season</th>\n",
       "      <th>neutral</th>\n",
       "      <th>playoff</th>\n",
       "      <th>team1</th>\n",
       "      <th>team2</th>\n",
       "      <th>elo1</th>\n",
       "      <th>elo2</th>\n",
       "      <th>elo_prob1</th>\n",
       "      <th>score1</th>\n",
       "      <th>score2</th>\n",
       "      <th>result1</th>\n",
       "    </tr>\n",
       "  </thead>\n",
       "  <tbody>\n",
       "    <tr>\n",
       "      <th>0</th>\n",
       "      <td>701169</td>\n",
       "      <td>1920</td>\n",
       "      <td>0</td>\n",
       "      <td>0</td>\n",
       "      <td>RII</td>\n",
       "      <td>STP</td>\n",
       "      <td>1503.947</td>\n",
       "      <td>1300.000</td>\n",
       "      <td>0.824651</td>\n",
       "      <td>48</td>\n",
       "      <td>0</td>\n",
       "      <td>1.0</td>\n",
       "    </tr>\n",
       "    <tr>\n",
       "      <th>1</th>\n",
       "      <td>701176</td>\n",
       "      <td>1920</td>\n",
       "      <td>0</td>\n",
       "      <td>0</td>\n",
       "      <td>AKR</td>\n",
       "      <td>WHE</td>\n",
       "      <td>1503.420</td>\n",
       "      <td>1300.000</td>\n",
       "      <td>0.824212</td>\n",
       "      <td>43</td>\n",
       "      <td>0</td>\n",
       "      <td>1.0</td>\n",
       "    </tr>\n",
       "    <tr>\n",
       "      <th>2</th>\n",
       "      <td>701176</td>\n",
       "      <td>1920</td>\n",
       "      <td>0</td>\n",
       "      <td>0</td>\n",
       "      <td>RCH</td>\n",
       "      <td>ABU</td>\n",
       "      <td>1503.420</td>\n",
       "      <td>1300.000</td>\n",
       "      <td>0.824212</td>\n",
       "      <td>10</td>\n",
       "      <td>0</td>\n",
       "      <td>1.0</td>\n",
       "    </tr>\n",
       "    <tr>\n",
       "      <th>3</th>\n",
       "      <td>701176</td>\n",
       "      <td>1920</td>\n",
       "      <td>0</td>\n",
       "      <td>0</td>\n",
       "      <td>DAY</td>\n",
       "      <td>COL</td>\n",
       "      <td>1493.002</td>\n",
       "      <td>1504.908</td>\n",
       "      <td>0.575819</td>\n",
       "      <td>14</td>\n",
       "      <td>0</td>\n",
       "      <td>1.0</td>\n",
       "    </tr>\n",
       "    <tr>\n",
       "      <th>4</th>\n",
       "      <td>701176</td>\n",
       "      <td>1920</td>\n",
       "      <td>0</td>\n",
       "      <td>0</td>\n",
       "      <td>RII</td>\n",
       "      <td>MUN</td>\n",
       "      <td>1516.108</td>\n",
       "      <td>1478.004</td>\n",
       "      <td>0.644171</td>\n",
       "      <td>45</td>\n",
       "      <td>0</td>\n",
       "      <td>1.0</td>\n",
       "    </tr>\n",
       "  </tbody>\n",
       "</table>\n",
       "</div>"
      ],
      "text/plain": [
       "     date  season  neutral  playoff team1 team2      elo1      elo2  \\\n",
       "0  701169    1920        0        0   RII   STP  1503.947  1300.000   \n",
       "1  701176    1920        0        0   AKR   WHE  1503.420  1300.000   \n",
       "2  701176    1920        0        0   RCH   ABU  1503.420  1300.000   \n",
       "3  701176    1920        0        0   DAY   COL  1493.002  1504.908   \n",
       "4  701176    1920        0        0   RII   MUN  1516.108  1478.004   \n",
       "\n",
       "   elo_prob1  score1  score2  result1  \n",
       "0   0.824651      48       0      1.0  \n",
       "1   0.824212      43       0      1.0  \n",
       "2   0.824212      10       0      1.0  \n",
       "3   0.575819      14       0      1.0  \n",
       "4   0.644171      45       0      1.0  "
      ]
     },
     "execution_count": 4,
     "metadata": {},
     "output_type": "execute_result"
    }
   ],
   "source": [
    "import datetime as dt #datetime\n",
    "df['date'] = df['date'].map(dt.datetime.toordinal)\n",
    "df.head()"
   ]
  },
  {
   "cell_type": "markdown",
   "metadata": {},
   "source": [
    "Going to go ahead and clean up unnecessary columns as we only care for the date, the team, and the score. Then I will be creating the linear regressions for each team and storing them in a DataFrame."
   ]
  },
  {
   "cell_type": "code",
   "execution_count": 5,
   "metadata": {},
   "outputs": [
    {
     "data": {
      "text/plain": [
       "array(['RII', 'AKR', 'RCH', 'DAY', 'CHI', 'CBD', 'BFF', 'DHR', 'CHT',\n",
       "       'ARI', 'FTW', 'LOG', 'RCK', 'CTI', 'PUL', 'ZAN', 'CHL', 'THO',\n",
       "       'MNM', 'GAR', 'ELY', 'CHB', 'ROS', 'COL', 'WGC', 'UAP', 'RIC',\n",
       "       'CST', 'ECG', 'DTI', 'MUN', 'GB', 'MNN', 'SEN', 'NG1', 'LOU',\n",
       "       'RAC', 'TOL', 'OOR', 'MIL', 'DUL', 'HAM', 'SLA', 'CIB', 'FYJ',\n",
       "       'KEN', 'KCB', 'DPN', 'PTB', 'PRV', 'NYG', 'HRT', 'BRL', 'NYA',\n",
       "       'DWL', 'TOR', 'SIS', 'DET', 'BKN', 'CLI', 'WSH', 'PIT', 'RED',\n",
       "       'PHI', 'GUN', 'LAR', 'STG', 'CRP', 'BYK', 'CLE', 'BBA', 'SF',\n",
       "       'CRA', 'LDA', 'NAA', 'MSA', 'BDA', 'BCL', 'NYY', 'DTX', 'IND',\n",
       "       'NE', 'LAC', 'OAK', 'NYJ', 'TEN', 'BUF', 'DAL', 'KC', 'DEN', 'MIN',\n",
       "       'MIA', 'ATL', 'NO', 'CIN', 'SEA', 'TB', 'JAX', 'CAR', 'BAL', 'HOU'],\n",
       "      dtype=object)"
      ]
     },
     "execution_count": 5,
     "metadata": {},
     "output_type": "execute_result"
    }
   ],
   "source": [
    "df = df.drop(['season', 'neutral', 'playoff', 'elo1', 'elo2', 'elo_prob1', 'result1'], 1)\n",
    "names = df['team1'].unique()\n",
    "names"
   ]
  },
  {
   "cell_type": "markdown",
   "metadata": {},
   "source": [
    "Now we will iterate over the array of names and pull their score data from the dataframe for each team"
   ]
  },
  {
   "cell_type": "code",
   "execution_count": 6,
   "metadata": {},
   "outputs": [],
   "source": [
    "import numpy as np #Array\n",
    "from sklearn.linear_model import LinearRegression #Linear Regression\n",
    "from sklearn.model_selection import train_test_split #Training and Testing"
   ]
  },
  {
   "cell_type": "code",
   "execution_count": 7,
   "metadata": {},
   "outputs": [
    {
     "name": "stdout",
     "output_type": "stream",
     "text": [
      "[48 45 26  0  7 20  0  7  0 48  0 10 14 14 13 14  0 19  6 60 26  0 43  0\n",
      "  3  0 56  3  6  3  6  7  0  9 26 20  7  3  6 17  0  0  0  3 12  0  3  0\n",
      " 35 40  6  0]\n",
      "[43 37 13  7 10  7 13  7 14  0  0 14 41 23 20  3 19 21  0  0  0  0  7 36\n",
      " 13  0 62 22  0  3 10  0  0  7  0  0  7  3  6  2  3 14 13  0  0  7  0 22\n",
      "  7 14  0 20  0 17  7  0  6  0 17  0  0  0  0  0]\n",
      "[10 66  0 21  6 27  0 16  3  7  0 13  0  0 45 27 13  0  0  0  0  0  0  6\n",
      "  0  0  0  7  0  0  0  0  7  0 13  0  0  6  0]\n",
      "[14  0 44 20 23 21  0 28  0 42  7 14  0  3  0 27  3  0 36  0 17 20  0  0\n",
      "  0  7  7  0  0  3  3  0  0  3 19  7  0  6  0  0  6  7  0  0  0  0  3  0\n",
      "  0  0  3  6  6  0  0  0  0  6  3  0  0  0  6  0  0  0  0  9  0  0  0  0\n",
      "  7  0  0  0  0]\n",
      "[20 25  7 ... 14 24 15]\n",
      "[48 42  7 20  0 18 21  3  0  3  0  7 39  7 14  0 14  7  7 14 15  0 28 38\n",
      "  0 14 22  7  0  3  7 20 14 40 19 17 37 30  6  7  7  3 41 46 28 14 10 14\n",
      " 14  7  0  3  6  6  0  2 13  0 13  0  0  7  7  2  0  2  0  0]\n",
      "[32 51 28 38 17 35 43  0  7  7  0 17 38 55 28 21 10  0  7  7  7 14  7  7\n",
      " 19  0  7  7  0  3  7 21 16  0  9  3 57  3  0  3  3  3  0 13  0 13  0 26\n",
      " 17  0 27 14 16  0  0  7  7  0  0  0 17  3  0  0  6  7  0  0  7  0  0 26\n",
      " 13  0  0  0  0  8  0  0  3  0  0  0  7  6  6  7 19]\n",
      "[40  0  6  0  0  0  0  7]\n",
      "[ 0 12  0  7  3  0  0 27]\n",
      "[ 0 33  0 ... 14  9 24]\n",
      "[14  0]\n",
      "[9]\n"
     ]
    },
    {
     "ename": "ValueError",
     "evalue": "With n_samples=1, test_size=0.1 and train_size=None, the resulting train set will be empty. Adjust any of the aforementioned parameters.",
     "output_type": "error",
     "traceback": [
      "\u001b[1;31m---------------------------------------------------------------------------\u001b[0m",
      "\u001b[1;31mValueError\u001b[0m                                Traceback (most recent call last)",
      "\u001b[1;32m<ipython-input-7-9d97b6cce129>\u001b[0m in \u001b[0;36m<module>\u001b[1;34m\u001b[0m\n\u001b[0;32m     10\u001b[0m     \u001b[0my\u001b[0m \u001b[1;33m=\u001b[0m \u001b[0mcombined\u001b[0m\u001b[1;33m.\u001b[0m\u001b[0miloc\u001b[0m\u001b[1;33m[\u001b[0m\u001b[1;33m:\u001b[0m\u001b[1;33m,\u001b[0m \u001b[1;36m2\u001b[0m\u001b[1;33m]\u001b[0m\u001b[1;33m.\u001b[0m\u001b[0mvalues\u001b[0m\u001b[1;33m\u001b[0m\u001b[1;33m\u001b[0m\u001b[0m\n\u001b[0;32m     11\u001b[0m     \u001b[0mprint\u001b[0m\u001b[1;33m(\u001b[0m\u001b[0my\u001b[0m\u001b[1;33m)\u001b[0m\u001b[1;33m\u001b[0m\u001b[1;33m\u001b[0m\u001b[0m\n\u001b[1;32m---> 12\u001b[1;33m     \u001b[0mx_train\u001b[0m\u001b[1;33m,\u001b[0m \u001b[0mx_test\u001b[0m\u001b[1;33m,\u001b[0m \u001b[0my_train\u001b[0m\u001b[1;33m,\u001b[0m \u001b[0my_actual\u001b[0m \u001b[1;33m=\u001b[0m \u001b[0mtrain_test_split\u001b[0m\u001b[1;33m(\u001b[0m\u001b[0mx\u001b[0m\u001b[1;33m,\u001b[0m \u001b[0my\u001b[0m\u001b[1;33m,\u001b[0m \u001b[0mtest_size\u001b[0m\u001b[1;33m=\u001b[0m\u001b[1;36m0.1\u001b[0m\u001b[1;33m,\u001b[0m \u001b[0mrandom_state\u001b[0m\u001b[1;33m=\u001b[0m\u001b[1;36m0\u001b[0m\u001b[1;33m)\u001b[0m\u001b[1;33m\u001b[0m\u001b[1;33m\u001b[0m\u001b[0m\n\u001b[0m\u001b[0;32m     13\u001b[0m     \u001b[0mx_train\u001b[0m\u001b[1;33m=\u001b[0m \u001b[0mx_train\u001b[0m\u001b[1;33m.\u001b[0m\u001b[0mreshape\u001b[0m\u001b[1;33m(\u001b[0m\u001b[1;33m-\u001b[0m\u001b[1;36m1\u001b[0m\u001b[1;33m,\u001b[0m \u001b[1;36m1\u001b[0m\u001b[1;33m)\u001b[0m\u001b[1;33m\u001b[0m\u001b[1;33m\u001b[0m\u001b[0m\n\u001b[0;32m     14\u001b[0m     \u001b[0my_train\u001b[0m\u001b[1;33m=\u001b[0m \u001b[0my_train\u001b[0m\u001b[1;33m.\u001b[0m\u001b[0mreshape\u001b[0m\u001b[1;33m(\u001b[0m\u001b[1;33m-\u001b[0m\u001b[1;36m1\u001b[0m\u001b[1;33m,\u001b[0m \u001b[1;36m1\u001b[0m\u001b[1;33m)\u001b[0m\u001b[1;33m\u001b[0m\u001b[1;33m\u001b[0m\u001b[0m\n",
      "\u001b[1;32mD:\\Workspace\\Anaconda3\\envs\\EECS731_Project4\\lib\\site-packages\\sklearn\\model_selection\\_split.py\u001b[0m in \u001b[0;36mtrain_test_split\u001b[1;34m(*arrays, **options)\u001b[0m\n\u001b[0;32m   2128\u001b[0m \u001b[1;33m\u001b[0m\u001b[0m\n\u001b[0;32m   2129\u001b[0m     \u001b[0mn_samples\u001b[0m \u001b[1;33m=\u001b[0m \u001b[0m_num_samples\u001b[0m\u001b[1;33m(\u001b[0m\u001b[0marrays\u001b[0m\u001b[1;33m[\u001b[0m\u001b[1;36m0\u001b[0m\u001b[1;33m]\u001b[0m\u001b[1;33m)\u001b[0m\u001b[1;33m\u001b[0m\u001b[1;33m\u001b[0m\u001b[0m\n\u001b[1;32m-> 2130\u001b[1;33m     n_train, n_test = _validate_shuffle_split(n_samples, test_size, train_size,\n\u001b[0m\u001b[0;32m   2131\u001b[0m                                               default_test_size=0.25)\n\u001b[0;32m   2132\u001b[0m \u001b[1;33m\u001b[0m\u001b[0m\n",
      "\u001b[1;32mD:\\Workspace\\Anaconda3\\envs\\EECS731_Project4\\lib\\site-packages\\sklearn\\model_selection\\_split.py\u001b[0m in \u001b[0;36m_validate_shuffle_split\u001b[1;34m(n_samples, test_size, train_size, default_test_size)\u001b[0m\n\u001b[0;32m   1808\u001b[0m \u001b[1;33m\u001b[0m\u001b[0m\n\u001b[0;32m   1809\u001b[0m     \u001b[1;32mif\u001b[0m \u001b[0mn_train\u001b[0m \u001b[1;33m==\u001b[0m \u001b[1;36m0\u001b[0m\u001b[1;33m:\u001b[0m\u001b[1;33m\u001b[0m\u001b[1;33m\u001b[0m\u001b[0m\n\u001b[1;32m-> 1810\u001b[1;33m         raise ValueError(\n\u001b[0m\u001b[0;32m   1811\u001b[0m             \u001b[1;34m'With n_samples={}, test_size={} and train_size={}, the '\u001b[0m\u001b[1;33m\u001b[0m\u001b[1;33m\u001b[0m\u001b[0m\n\u001b[0;32m   1812\u001b[0m             \u001b[1;34m'resulting train set will be empty. Adjust any of the '\u001b[0m\u001b[1;33m\u001b[0m\u001b[1;33m\u001b[0m\u001b[0m\n",
      "\u001b[1;31mValueError\u001b[0m: With n_samples=1, test_size=0.1 and train_size=None, the resulting train set will be empty. Adjust any of the aforementioned parameters."
     ]
    }
   ],
   "source": [
    "models = {}\n",
    "x_tests = {}\n",
    "y_actuals = {}\n",
    "for team in names:\n",
    "    home_team = df[df.team1 == team].drop(['team2','score2'],1)\n",
    "    away_team = df[df.team2 == team].drop(['team1','score1'],1)\n",
    "    away_team.columns=home_team.columns\n",
    "    combined = home_team.append(away_team, ignore_index=True).sort_values('date')\n",
    "    x = combined.iloc[:, 0].values\n",
    "    y = combined.iloc[:, 2].values\n",
    "    print(y)\n",
    "    x_train, x_test, y_train, y_actual = train_test_split(x, y, test_size=0.1, random_state=0)\n",
    "    x_train= x_train.reshape(-1, 1)\n",
    "    y_train= y_train.reshape(-1, 1)\n",
    "    x_test = x_test.reshape(-1, 1)\n",
    "    models[team] = LinearRegression().fit(x_train,y_train)\n",
    "    x_tests[team] = x_test\n",
    "    y_actuals[team] = y_actual\n",
    "    "
   ]
  },
  {
   "cell_type": "markdown",
   "metadata": {},
   "source": [
    "From this ValueError I have come to realize that not every team has played more than 1 NFL game. This method of modelling is probably a dead-end here as there wouldn't be enough datapoints for most teams. There are a good amount with 50+ entries but for an overall score prediction model I would assert that individual 2D linear regression isn't ideal."
   ]
  },
  {
   "cell_type": "markdown",
   "metadata": {},
   "source": [
    "# Conclusion\n",
    "---\n",
    "Don't do this. No seriously, don't try to predict individual team scores by past results with no consideration to opponents or other factors."
   ]
  }
 ],
 "metadata": {
  "kernelspec": {
   "display_name": "Python 3",
   "language": "python",
   "name": "python3"
  },
  "language_info": {
   "codemirror_mode": {
    "name": "ipython",
    "version": 3
   },
   "file_extension": ".py",
   "mimetype": "text/x-python",
   "name": "python",
   "nbconvert_exporter": "python",
   "pygments_lexer": "ipython3",
   "version": "3.8.5"
  }
 },
 "nbformat": 4,
 "nbformat_minor": 4
}
